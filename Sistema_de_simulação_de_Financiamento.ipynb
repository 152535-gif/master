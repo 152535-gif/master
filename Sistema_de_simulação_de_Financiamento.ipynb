{
  "nbformat": 4,
  "nbformat_minor": 0,
  "metadata": {
    "colab": {
      "provenance": [],
      "authorship_tag": "ABX9TyN7OUs/VVH5hnwxChFtUyKg",
      "include_colab_link": true
    },
    "kernelspec": {
      "name": "python3",
      "display_name": "Python 3"
    },
    "language_info": {
      "name": "python"
    }
  },
  "cells": [
    {
      "cell_type": "markdown",
      "metadata": {
        "id": "view-in-github",
        "colab_type": "text"
      },
      "source": [
        "<a href=\"https://colab.research.google.com/github/152535-gif/master/blob/master/Sistema_de_simula%C3%A7%C3%A3o_de_Financiamento.ipynb\" target=\"_parent\"><img src=\"https://colab.research.google.com/assets/colab-badge.svg\" alt=\"Open In Colab\"/></a>"
      ]
    },
    {
      "cell_type": "code",
      "execution_count": null,
      "metadata": {
        "colab": {
          "base_uri": "https://localhost:8080/"
        },
        "id": "UKtTuRWT3Ora",
        "outputId": "dd7ec6e6-11e0-4e7d-f542-a56fccb7e23d"
      },
      "outputs": [
        {
          "output_type": "stream",
          "name": "stdout",
          "text": [
            " financiamento Aprovado\n",
            "Financiamento Negado\n",
            " financiamento Aprovado\n"
          ]
        }
      ],
      "source": [
        "# Sistema para aprovação de financiamento 2 creiterios: renda acima de 5 mil, e nome limpo. (Operadores logicos)\n",
        "\n",
        "\n",
        "\n",
        "renda_acima_5mil = True\n",
        "nome_limpo = True\n",
        "\n",
        "if renda_acima_5mil and nome_limpo:\n",
        "    print(' financiamento Aprovado')\n",
        "else:\n",
        "    print('Financiamento Negado')\n",
        "\n",
        "\n",
        "# Sistema para aprovação de financiamento 2 creiterios: renda acima de 5 mil, e nome limpo. (Operadores logicos)\n",
        "\n",
        "\n",
        "\n",
        "renda_acima_5mil = False\n",
        "nome_limpo = False\n",
        "\n",
        "if renda_acima_5mil and nome_limpo:\n",
        "    print(' financiamento Aprovado')\n",
        "else:\n",
        "    print('Financiamento Negado')\n",
        "\n",
        "\n",
        "# Sistema para aprovação de financiamento 2 creiterios: renda acima de 5 mil, e nome limpo. (Operadores logicos)\n",
        "\n",
        "\n",
        "\n",
        "renda_acima_5mil = True\n",
        "nome_limpo = True\n",
        "\n",
        "if renda_acima_5mil or nome_limpo:\n",
        "    print(' financiamento Aprovado')\n",
        "else:\n",
        "    print('Financiamento Negado')"
      ]
    }
  ]
}