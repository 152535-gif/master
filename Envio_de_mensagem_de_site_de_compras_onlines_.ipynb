{
  "nbformat": 4,
  "nbformat_minor": 0,
  "metadata": {
    "colab": {
      "provenance": [],
      "authorship_tag": "ABX9TyMbq42mi9GuF/ikJ6BQj6sP",
      "include_colab_link": true
    },
    "kernelspec": {
      "name": "python3",
      "display_name": "Python 3"
    },
    "language_info": {
      "name": "python"
    }
  },
  "cells": [
    {
      "cell_type": "markdown",
      "metadata": {
        "id": "view-in-github",
        "colab_type": "text"
      },
      "source": [
        "<a href=\"https://colab.research.google.com/github/152535-gif/master/blob/master/Envio_de_mensagem_de_site_de_compras_onlines_.ipynb\" target=\"_parent\"><img src=\"https://colab.research.google.com/assets/colab-badge.svg\" alt=\"Open In Colab\"/></a>"
      ]
    },
    {
      "cell_type": "code",
      "source": [
        "# enviar um email com os detalhes da compra online ( Maximo 3\n",
        "#tentativas ) para compras confirmadas.\n",
        "\n",
        "compra_confirmada = True\n",
        "dados_compra = 'Compra no valor de R$999.99 confirmada'\n",
        "\n",
        "for enviar in range(3):\n",
        "    if compra_confirmada:\n",
        "        print(dados_compra)\n",
        "        print('Detalhes enviados para seu email')\n",
        "        break\n",
        "else:\n",
        "    print(' Falha na compra')\n",
        "\n",
        "#Quando o break entra dentro do for loop ele verifica se a compra foi confirmada, imprima , imprima e sai fora. caso a compra não seja confirmada ele volta pra dentro e executa as outras duas tentativas até a 3, fazendo com que o Lupin paresse  e saísse para o Else.\n"
      ],
      "metadata": {
        "id": "vbONXZ5XSJIu",
        "colab": {
          "base_uri": "https://localhost:8080/"
        },
        "outputId": "5b994f09-9ee7-4986-9d5f-4ab09b5875d7"
      },
      "execution_count": null,
      "outputs": [
        {
          "output_type": "stream",
          "name": "stdout",
          "text": [
            "Compra no valor de R$999.99 confirmada\n",
            "Detalhes enviados para seu email\n"
          ]
        }
      ]
    },
    {
      "cell_type": "markdown",
      "source": [],
      "metadata": {
        "id": "-_6utM8k2st0"
      }
    },
    {
      "cell_type": "code",
      "source": [],
      "metadata": {
        "id": "ECC9J44I2p1W"
      },
      "execution_count": null,
      "outputs": []
    }
  ]
}